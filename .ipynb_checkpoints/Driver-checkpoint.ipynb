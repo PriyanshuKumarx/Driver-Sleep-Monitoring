{
 "cells": [
  {
   "cell_type": "code",
   "execution_count": 17,
   "id": "724b8571-32c0-48c9-87e0-69d711e99cd1",
   "metadata": {},
   "outputs": [],
   "source": [
    "import cv2\n",
    "import numpy as np\n",
    "import dlib\n",
    "from imutils import face_utils\n",
    "import pygame\n",
    "import time\n",
    "from scipy.spatial import distance as dist\n",
    "import os\n",
    "from datetime import datetime\n",
    "import requests  # Import the requests library"
   ]
  },
  {
   "cell_type": "code",
   "execution_count": 21,
   "id": "7176483f-8375-48cc-92d6-30fee85950ec",
   "metadata": {},
   "outputs": [],
   "source": [
    "# Initialize Pygame\n",
    "pygame.init()\n",
    "pygame.mixer.init()\n",
    "alert_sound = pygame.mixer.Sound(\"alert.wav\")  # Ensure this file exists"
   ]
  },
  {
   "cell_type": "code",
   "execution_count": 23,
   "id": "b8b0e686-64d7-4b76-a183-55828bfbf454",
   "metadata": {},
   "outputs": [],
   "source": [
    "def get_current_location():\n",
    "    try:\n",
    "        # Use ipinfo.io to get location based on IP address\n",
    "        response = requests.get(\"https://ipinfo.io\")\n",
    "        data = response.json()\n",
    "        return f\"{data.get('city', 'Unknown')}, {data.get('region', 'Unknown')}, {data.get('country', 'Unknown')}\"\n",
    "    except Exception as e:\n",
    "        return f\"Location unavailable: {str(e)}\""
   ]
  },
  {
   "cell_type": "code",
   "execution_count": 25,
   "id": "48074e97-02c6-4689-a3f2-0f241147b750",
   "metadata": {},
   "outputs": [],
   "source": [
    "# Create a directory to save sleep detection images\n",
    "if not os.path.exists(\"sleep_detections\"):\n",
    "    os.makedirs(\"sleep_detections\")"
   ]
  },
  {
   "cell_type": "code",
   "execution_count": 31,
   "id": "fe43306b-ce42-426d-ae89-dca420ea5efb",
   "metadata": {},
   "outputs": [
    {
     "data": {
      "text/plain": [
       "True"
      ]
     },
     "execution_count": 31,
     "metadata": {},
     "output_type": "execute_result"
    }
   ],
   "source": [
    "# Camera setup\n",
    "cap = cv2.VideoCapture(0)\n",
    "cap.set(3, 1280)  # Width\n",
    "cap.set(4, 720)   # Height\n"
   ]
  },
  {
   "cell_type": "code",
   "execution_count": 33,
   "id": "dca37fea-0564-4afa-93d8-fd191859af6e",
   "metadata": {},
   "outputs": [],
   "source": [
    "# Dlib models\n",
    "detector = dlib.get_frontal_face_detector()\n",
    "predictor = dlib.shape_predictor(\"shape_predictor_68_face_landmarks.dat\")  # Verify path\n"
   ]
  },
  {
   "cell_type": "code",
   "execution_count": 35,
   "id": "402a3c6d-2af6-406c-b921-3c7026342416",
   "metadata": {},
   "outputs": [],
   "source": [
    "# Constants\n",
    "EYE_AR_THRESH = 0.25\n",
    "EYE_AR_CONSEC_FRAMES = 30  # 1 second at 30 FPS\n",
    "YAWN_THRESH = 30\n",
    "SLEEP_DURATION_THRESH = 3  # Seconds before alert"
   ]
  },
  {
   "cell_type": "code",
   "execution_count": 37,
   "id": "dcc92f91-b693-475b-83dc-7c9d7bacf477",
   "metadata": {},
   "outputs": [
    {
     "ename": "KeyboardInterrupt",
     "evalue": "",
     "output_type": "error",
     "traceback": [
      "\u001b[1;31m---------------------------------------------------------------------------\u001b[0m",
      "\u001b[1;31mKeyboardInterrupt\u001b[0m                         Traceback (most recent call last)",
      "Cell \u001b[1;32mIn[37], line 44\u001b[0m\n\u001b[0;32m     41\u001b[0m     \u001b[38;5;28;01mbreak\u001b[39;00m\n\u001b[0;32m     43\u001b[0m gray \u001b[38;5;241m=\u001b[39m cv2\u001b[38;5;241m.\u001b[39mcvtColor(frame, cv2\u001b[38;5;241m.\u001b[39mCOLOR_BGR2GRAY)\n\u001b[1;32m---> 44\u001b[0m faces \u001b[38;5;241m=\u001b[39m detector(gray, \u001b[38;5;241m0\u001b[39m)\n\u001b[0;32m     46\u001b[0m current_status \u001b[38;5;241m=\u001b[39m \u001b[38;5;124m\"\u001b[39m\u001b[38;5;124mNormal\u001b[39m\u001b[38;5;124m\"\u001b[39m\n\u001b[0;32m     47\u001b[0m color \u001b[38;5;241m=\u001b[39m (\u001b[38;5;241m0\u001b[39m, \u001b[38;5;241m255\u001b[39m, \u001b[38;5;241m0\u001b[39m)\n",
      "\u001b[1;31mKeyboardInterrupt\u001b[0m: "
     ]
    }
   ],
   "source": [
    "# Status variables\n",
    "eye_counter = 0\n",
    "yawn_count = 0\n",
    "sleep_start_time = 0\n",
    "sleep_detected = False\n",
    "location_update_time = time.time()\n",
    "current_location = get_current_location()  # Initialize current location\n",
    "\n",
    "def eye_aspect_ratio(eye):\n",
    "    # Compute the Euclidean distances between the two sets of vertical eye landmarks\n",
    "    A = dist.euclidean(eye[1], eye[5])\n",
    "    B = dist.euclidean(eye[2], eye[4])\n",
    "    # Compute the Euclidean distance between the horizontal eye landmarks\n",
    "    C = dist.euclidean(eye[0], eye[3])\n",
    "    # Compute the eye aspect ratio\n",
    "    ear = (A + B) / (2.0 * C)\n",
    "    return ear\n",
    "\n",
    "def mouth_aspect_ratio(mouth):\n",
    "    # Compute the Euclidean distances between the two sets of vertical mouth landmarks\n",
    "    A = dist.euclidean(mouth[2], mouth[10])  # 51, 59\n",
    "    B = dist.euclidean(mouth[4], mouth[8])   # 53, 57\n",
    "    # Compute the Euclidean distance between the horizontal mouth landmarks\n",
    "    C = dist.euclidean(mouth[0], mouth[6])   # 49, 55\n",
    "    # Compute the mouth aspect ratio\n",
    "    mar = (A + B) / (2.0 * C)\n",
    "    return mar\n",
    "\n",
    "def play_alert():\n",
    "    alert_sound.play()\n",
    "\n",
    "def save_sleep_image(frame, face_coords):\n",
    "    timestamp = datetime.now().strftime(\"%Y%m%d_%H%M%S\")\n",
    "    filename = f\"sleep_detections/sleep_{timestamp}.jpg\"\n",
    "    cv2.imwrite(filename, frame)\n",
    "    print(f\"Sleep detected! Image saved as {filename}\")\n",
    "\n",
    "while True:\n",
    "    ret, frame = cap.read()\n",
    "    if not ret:\n",
    "        break\n",
    "\n",
    "    gray = cv2.cvtColor(frame, cv2.COLOR_BGR2GRAY)\n",
    "    faces = detector(gray, 0)\n",
    "    \n",
    "    current_status = \"Normal\"\n",
    "    color = (0, 255, 0)\n",
    "    yawn_status = False\n",
    "\n",
    "    if len(faces) > 0:\n",
    "        face = max(faces, key=lambda rect: rect.width() * rect.height())\n",
    "        landmarks = predictor(gray, face)\n",
    "        landmarks = face_utils.shape_to_np(landmarks)\n",
    "\n",
    "        # Face coordinates\n",
    "        x1, y1, x2, y2 = face.left(), face.top(), face.right(), face.bottom()\n",
    "\n",
    "        # Eye detection\n",
    "        left_eye = landmarks[42:48]\n",
    "        right_eye = landmarks[36:42]\n",
    "        ear = (eye_aspect_ratio(left_eye) + eye_aspect_ratio(right_eye)) / 2\n",
    "\n",
    "        # Sleep detection\n",
    "        if ear < EYE_AR_THRESH:\n",
    "            eye_counter += 1\n",
    "            if eye_counter > EYE_AR_CONSEC_FRAMES:\n",
    "                current_status = \"SLEEPING!\"\n",
    "                color = (0, 0, 255)\n",
    "                if sleep_start_time == 0:\n",
    "                    sleep_start_time = time.time()\n",
    "                else:\n",
    "                    if time.time() - sleep_start_time > SLEEP_DURATION_THRESH:\n",
    "                        play_alert()\n",
    "                        if not sleep_detected:\n",
    "                            save_sleep_image(frame, (x1, y1, x2, y2))\n",
    "                            sleep_detected = True\n",
    "        else:\n",
    "            eye_counter = 0\n",
    "            sleep_start_time = 0\n",
    "            current_status = \"Normal\"\n",
    "            sleep_detected = False\n",
    "\n",
    "        # Yawn detection\n",
    "        mouth = landmarks[48:68]\n",
    "        mar = mouth_aspect_ratio(mouth)\n",
    "        if mar > YAWN_THRESH:\n",
    "            yawn_status = True\n",
    "            yawn_count += 1\n",
    "            current_status = \"YAWNING\"\n",
    "            color = (0, 165, 255)\n",
    "\n",
    "        # Draw face landmarks\n",
    "        for (x, y) in landmarks:\n",
    "            cv2.circle(frame, (x, y), 1, (0, 255, 0), -1)\n",
    "\n",
    "        # Draw rectangle around the face\n",
    "        cv2.rectangle(frame, (x1, y1), (x2, y2), (0, 255, 0), 2)\n",
    "\n",
    "    # Update location every 60 seconds\n",
    "    if time.time() - location_update_time > 60:\n",
    "        current_location = get_current_location()\n",
    "        location_update_time = time.time()\n",
    "\n",
    "    # Status display\n",
    "    cv2.putText(frame, f\"Status: {current_status}\", (20, 40), \n",
    "                cv2.FONT_HERSHEY_SIMPLEX, 0.8, color, 2)\n",
    "    cv2.putText(frame, f\"Eye Closure: {eye_counter}/{EYE_AR_CONSEC_FRAMES}\", (20, 80), \n",
    "                cv2.FONT_HERSHEY_SIMPLEX, 0.6, (255, 255, 255), 1)\n",
    "    cv2.putText(frame, f\"Yawn Count: {yawn_count}\", (20, 120), \n",
    "                cv2.FONT_HERSHEY_SIMPLEX, 0.6, (255, 255, 255), 1)\n",
    "    cv2.putText(frame, f\"Location: {current_location}\", (20, 160), \n",
    "                cv2.FONT_HERSHEY_SIMPLEX, 0.6, (255, 255, 255), 1)\n",
    "\n",
    "    cv2.imshow(\"Driver Monitoring\", frame)\n",
    "\n",
    "    if cv2.waitKey(1) & 0xFF == ord('q'):\n",
    "        break\n",
    "\n",
    "cap.release()\n",
    "cv2.destroyAllWindows()"
   ]
  },
  {
   "cell_type": "code",
   "execution_count": null,
   "id": "04a61fb3-3e51-4ddb-a75c-1c5f7be1986e",
   "metadata": {},
   "outputs": [],
   "source": []
  },
  {
   "cell_type": "code",
   "execution_count": null,
   "id": "7e1ab8cd-948d-45a6-b845-880a4cd4957a",
   "metadata": {},
   "outputs": [],
   "source": []
  }
 ],
 "metadata": {
  "kernelspec": {
   "display_name": "Python 3 (ipykernel)",
   "language": "python",
   "name": "python3"
  },
  "language_info": {
   "codemirror_mode": {
    "name": "ipython",
    "version": 3
   },
   "file_extension": ".py",
   "mimetype": "text/x-python",
   "name": "python",
   "nbconvert_exporter": "python",
   "pygments_lexer": "ipython3",
   "version": "3.12.4"
  }
 },
 "nbformat": 4,
 "nbformat_minor": 5
}
